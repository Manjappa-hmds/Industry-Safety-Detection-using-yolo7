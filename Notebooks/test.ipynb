{
 "cells": [
  {
   "cell_type": "code",
   "execution_count": 1,
   "metadata": {},
   "outputs": [
    {
     "data": {
      "text/plain": [
       "'d:\\\\Ineuron_projects\\\\Industry-Safety-Detection-using-yolo7\\\\Notebooks'"
      ]
     },
     "execution_count": 1,
     "metadata": {},
     "output_type": "execute_result"
    }
   ],
   "source": [
    "%pwd"
   ]
  },
  {
   "cell_type": "code",
   "execution_count": 2,
   "metadata": {},
   "outputs": [
    {
     "name": "stdout",
     "output_type": "stream",
     "text": [
      "[WinError 267] The directory name is invalid: 'D:\\\\Ineuron_projects\\\\Industry-Safety-Detection-using-yolo7\\\\app.py'\n",
      "d:\\Ineuron_projects\\Industry-Safety-Detection-using-yolo7\\Notebooks\n"
     ]
    }
   ],
   "source": [
    "%cd D:\\Ineuron_projects\\Industry-Safety-Detection-using-yolo7\\app.py "
   ]
  },
  {
   "cell_type": "code",
   "execution_count": 3,
   "metadata": {},
   "outputs": [
    {
     "name": "stdout",
     "output_type": "stream",
     "text": [
      "d:\\Ineuron_projects\\Industry-Safety-Detection-using-yolo7\n"
     ]
    }
   ],
   "source": [
    "cd .."
   ]
  },
  {
   "cell_type": "code",
   "execution_count": 4,
   "metadata": {},
   "outputs": [
    {
     "name": "stdout",
     "output_type": "stream",
     "text": [
      " Volume in drive D is New Volume\n",
      " Volume Serial Number is 1641-C84F\n",
      "\n",
      " Directory of d:\\Ineuron_projects\\Industry-Safety-Detection-using-yolo7\n",
      "\n",
      "27-03-2024  21:28    <DIR>          .\n",
      "20-03-2024  13:36    <DIR>          ..\n",
      "20-03-2024  13:53                 0 .dockerignore\n",
      "22-03-2024  17:27             3,249 .gitignore\n",
      "27-03-2024  19:02             1,578 app.py\n",
      "27-03-2024  21:27    <DIR>          artifacts\n",
      "24-03-2024  16:10    <DIR>          data\n",
      "20-03-2024  13:53                 0 Dockerfile\n",
      "22-03-2024  15:10    <DIR>          flowcharts\n",
      "22-03-2024  17:23    <DIR>          isd\n",
      "22-03-2024  15:43    <DIR>          isd.egg-info\n",
      "20-03-2024  13:36            11,558 LICENSE\n",
      "27-03-2024  21:27    <DIR>          log\n",
      "27-03-2024  21:30    <DIR>          Notebooks\n",
      "24-03-2024  16:07             1,010 README.md\n",
      "20-03-2024  14:02             1,194 requirements.txt\n",
      "24-03-2024  16:57               242 setup.py\n",
      "20-03-2024  13:53    <DIR>          templates\n",
      "20-03-2024  13:41             1,848 templates.py\n",
      "27-03-2024  21:28    <DIR>          yolov7\n",
      "               9 File(s)         20,679 bytes\n",
      "              11 Dir(s)  310,230,249,472 bytes free\n"
     ]
    }
   ],
   "source": [
    "ls"
   ]
  },
  {
   "cell_type": "code",
   "execution_count": 6,
   "metadata": {},
   "outputs": [
    {
     "name": "stderr",
     "output_type": "stream",
     "text": [
      "'unzip' is not recognized as an internal or external command,\n",
      "operable program or batch file.\n",
      "Traceback (most recent call last):\n",
      "  File \"d:\\Ineuron_projects\\Industry-Safety-Detection-using-yolo7\\isd\\components\\data_validation.py\", line 31, in validate_all_files_exist\n",
      "    all_files = os.listdir(self.data_ingestion_artifact.feature_store_path)\n",
      "FileNotFoundError: [WinError 3] The system cannot find the path specified: 'artifacts\\\\03_27_2024_21_33_58\\\\data_ingestion\\\\feature_store'\n",
      "\n",
      "During handling of the above exception, another exception occurred:\n",
      "\n",
      "Traceback (most recent call last):\n",
      "  File \"d:\\Ineuron_projects\\Industry-Safety-Detection-using-yolo7\\isd\\components\\data_validation.py\", line 56, in initiate_data_validation\n",
      "    status = self.validate_all_files_exist()\n",
      "  File \"d:\\Ineuron_projects\\Industry-Safety-Detection-using-yolo7\\isd\\components\\data_validation.py\", line 49, in validate_all_files_exist\n",
      "    raise isdException(e, sys)\n",
      "isd.exception.isdException: Error occurred python script name [d:\\Ineuron_projects\\Industry-Safety-Detection-using-yolo7\\isd\\components\\data_validation.py] line number [31] error message [[WinError 3] The system cannot find the path specified: 'artifacts\\\\03_27_2024_21_33_58\\\\data_ingestion\\\\feature_store']\n",
      "\n",
      "During handling of the above exception, another exception occurred:\n",
      "\n",
      "Traceback (most recent call last):\n",
      "  File \"d:\\Ineuron_projects\\Industry-Safety-Detection-using-yolo7\\isd\\pipeline\\training_pipeline.py\", line 69, in start_data_validation\n",
      "    data_validation_artifact = data_validation.initiate_data_validation()\n",
      "  File \"d:\\Ineuron_projects\\Industry-Safety-Detection-using-yolo7\\isd\\components\\data_validation.py\", line 69, in initiate_data_validation\n",
      "    raise isdException(e, sys)\n",
      "isd.exception.isdException: Error occurred python script name [d:\\Ineuron_projects\\Industry-Safety-Detection-using-yolo7\\isd\\components\\data_validation.py] line number [56] error message [Error occurred python script name [d:\\Ineuron_projects\\Industry-Safety-Detection-using-yolo7\\isd\\components\\data_validation.py] line number [31] error message [[WinError 3] The system cannot find the path specified: 'artifacts\\\\03_27_2024_21_33_58\\\\data_ingestion\\\\feature_store']]\n",
      "\n",
      "The above exception was the direct cause of the following exception:\n",
      "\n",
      "Traceback (most recent call last):\n",
      "  File \"d:\\Ineuron_projects\\Industry-Safety-Detection-using-yolo7\\isd\\pipeline\\training_pipeline.py\", line 119, in run_pipeline\n",
      "    data_validation_artifact = self.start_data_validation(\n",
      "  File \"d:\\Ineuron_projects\\Industry-Safety-Detection-using-yolo7\\isd\\pipeline\\training_pipeline.py\", line 80, in start_data_validation\n",
      "    raise isdException(e, sys) from e\n",
      "isd.exception.isdException: Error occurred python script name [d:\\Ineuron_projects\\Industry-Safety-Detection-using-yolo7\\isd\\pipeline\\training_pipeline.py] line number [69] error message [Error occurred python script name [d:\\Ineuron_projects\\Industry-Safety-Detection-using-yolo7\\isd\\components\\data_validation.py] line number [56] error message [Error occurred python script name [d:\\Ineuron_projects\\Industry-Safety-Detection-using-yolo7\\isd\\components\\data_validation.py] line number [31] error message [[WinError 3] The system cannot find the path specified: 'artifacts\\\\03_27_2024_21_33_58\\\\data_ingestion\\\\feature_store']]]\n",
      "\n",
      "During handling of the above exception, another exception occurred:\n",
      "\n",
      "Traceback (most recent call last):\n",
      "  File \"app.py\", line 5, in <module>\n",
      "    obj.run_pipeline()\n",
      "  File \"d:\\Ineuron_projects\\Industry-Safety-Detection-using-yolo7\\isd\\pipeline\\training_pipeline.py\", line 131, in run_pipeline\n",
      "    raise isdException(e, sys)\n",
      "isd.exception.isdException: Error occurred python script name [d:\\Ineuron_projects\\Industry-Safety-Detection-using-yolo7\\isd\\pipeline\\training_pipeline.py] line number [119] error message [Error occurred python script name [d:\\Ineuron_projects\\Industry-Safety-Detection-using-yolo7\\isd\\pipeline\\training_pipeline.py] line number [69] error message [Error occurred python script name [d:\\Ineuron_projects\\Industry-Safety-Detection-using-yolo7\\isd\\components\\data_validation.py] line number [56] error message [Error occurred python script name [d:\\Ineuron_projects\\Industry-Safety-Detection-using-yolo7\\isd\\components\\data_validation.py] line number [31] error message [[WinError 3] The system cannot find the path specified: 'artifacts\\\\03_27_2024_21_33_58\\\\data_ingestion\\\\feature_store']]]]\n"
     ]
    }
   ],
   "source": [
    "import os\n",
    "!python app.py"
   ]
  }
 ],
 "metadata": {
  "kernelspec": {
   "display_name": "safety",
   "language": "python",
   "name": "python3"
  },
  "language_info": {
   "codemirror_mode": {
    "name": "ipython",
    "version": 3
   },
   "file_extension": ".py",
   "mimetype": "text/x-python",
   "name": "python",
   "nbconvert_exporter": "python",
   "pygments_lexer": "ipython3",
   "version": "3.8.18"
  }
 },
 "nbformat": 4,
 "nbformat_minor": 2
}
